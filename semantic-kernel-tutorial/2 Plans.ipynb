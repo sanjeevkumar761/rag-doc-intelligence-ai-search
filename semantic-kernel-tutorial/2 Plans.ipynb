{
 "cells": [
  {
   "attachments": {},
   "cell_type": "markdown",
   "metadata": {},
   "source": [
    "# 🗺️ Plans 101"
   ]
  },
  {
   "cell_type": "markdown",
   "metadata": {},
   "source": [
    "## 🏁 Let's kick this off with the right packages"
   ]
  },
  {
   "cell_type": "code",
   "execution_count": 1,
   "metadata": {
    "dotnet_interactive": {
     "language": "csharp"
    },
    "polyglot_notebook": {
     "kernelName": "csharp"
    }
   },
   "outputs": [
    {
     "data": {
      "text/html": [
       "<div><div></div><div></div><div><strong>Installed Packages</strong><ul><li><span>Microsoft.Extensions.Logging.Console, 8.0.0</span></li><li><span>Microsoft.SemanticKernel, 1.3.0</span></li><li><span>Microsoft.SemanticKernel.Planners.Handlebars, 1.3.0-preview</span></li><li><span>Microsoft.SemanticKernel.Planners.OpenAI, 1.3.0-preview</span></li><li><span>Microsoft.SemanticKernel.Plugins.Core, 1.3.0-alpha</span></li></ul></div></div>"
      ]
     },
     "metadata": {},
     "output_type": "display_data"
    }
   ],
   "source": [
    "#r \"nuget: Microsoft.SemanticKernel, 1.3.0\"\n",
    "#r \"nuget: Microsoft.SemanticKernel.Planners.Handlebars, 1.3.0-alpha\"\n",
    "#r \"nuget: Microsoft.SemanticKernel.Planners.OpenAI, 1.3.0-preview\"\n",
    "#r \"nuget: Microsoft.SemanticKernel.Plugins.Core, 1.3.0-alpha\"\n",
    "#r \"nuget: Microsoft.Extensions.Logging.Console, 8.0.0\""
   ]
  },
  {
   "cell_type": "markdown",
   "metadata": {},
   "source": [
    "## 🔥 Fire up the kernel"
   ]
  },
  {
   "cell_type": "markdown",
   "metadata": {},
   "source": [
    "⚠️ Note that if you're going to use the function-calling capabilities of the kernel, you'll need a function-calling compatible model. Please refer to [this chart](https://platform.openai.com/docs/guides/function-calling) on OpenAI's site. That's why in the example below I've inserted `gpt-4-1106-preview` into the slot because I tend to use function-calling a lot. But if you don't have access to that model on OpenAI, as of late January 2024 these models are possible as well:\n",
    "\n",
    "* gpt-4\n",
    "* gpt-4-1106-preview\n",
    "* gpt-4-0613\n",
    "* gpt-3.5-turbo\n",
    "* gpt-3.5-turbo-1106\n",
    "* gpt-3.5-turbo-0613"
   ]
  },
  {
   "cell_type": "code",
   "execution_count": 2,
   "metadata": {
    "dotnet_interactive": {
     "language": "csharp"
    },
    "polyglot_notebook": {
     "kernelName": "csharp"
    }
   },
   "outputs": [],
   "source": [
    "#!import config/Settings.cs\n",
    "#!import config/Utils.cs\n",
    "\n",
    "using Microsoft.SemanticKernel;\n",
    "using Microsoft.SemanticKernel.Connectors.OpenAI;\n",
    "using Microsoft.SemanticKernel.Planning.Handlebars;\n",
    "using Microsoft.Extensions.Logging;\n",
    "using Kernel = Microsoft.SemanticKernel.Kernel;\n",
    "\n",
    "Kernel kernel;\n",
    "\n",
    "var (useAzureOpenAI, model, azureEndpoint, apiKey, orgId) = Settings.LoadFromFile();\n",
    "\n",
    "if (useAzureOpenAI) {\n",
    "    kernel = Kernel.CreateBuilder()\n",
    "        .AddAzureOpenAIChatCompletion(model, azureEndpoint, apiKey)\n",
    "        .Build();\n",
    "} else {\n",
    "    kernel = Kernel.CreateBuilder()\n",
    "        .AddOpenAIChatCompletion(\"gpt-4-1106-preview\", apiKey, orgId)\n",
    "        .Build();\n",
    "}"
   ]
  },
  {
   "cell_type": "markdown",
   "metadata": {},
   "source": [
    "## ⌚️ Let's add a native C# plugin for use by the planner"
   ]
  },
  {
   "cell_type": "code",
   "execution_count": 3,
   "metadata": {
    "dotnet_interactive": {
     "language": "csharp"
    },
    "polyglot_notebook": {
     "kernelName": "csharp"
    }
   },
   "outputs": [],
   "source": [
    "using System.ComponentModel;\n",
    "using Microsoft.Extensions.Logging;\n",
    "using Microsoft.SemanticKernel;\n",
    "using Microsoft.SemanticKernel.Plugins.Core;\n",
    "\n",
    "public class TimeInformationPlugin\n",
    "{\n",
    "    [KernelFunction]\n",
    "    [Description(\"Retrieves the current time in UTC.\")]\n",
    "    public string GetCurrentUtcTime() => DateTime.UtcNow.ToString(\"R\");\n",
    "}\n",
    "\n",
    "kernel.ImportPluginFromType<TimeInformationPlugin>();"
   ]
  },
  {
   "cell_type": "markdown",
   "metadata": {},
   "source": [
    "## 📋 Let's keep track of all the plugins"
   ]
  },
  {
   "cell_type": "code",
   "execution_count": 4,
   "metadata": {
    "dotnet_interactive": {
     "language": "csharp"
    },
    "polyglot_notebook": {
     "kernelName": "csharp"
    }
   },
   "outputs": [
    {
     "name": "stdout",
     "output_type": "stream",
     "text": [
      "****** Registered 🔌 Plugins and 📦 Functions ******\n",
      "🔌 TimeInformationPlugin\n",
      "   📦 /GetCurrentUtcTime: Retrieves the current time in UTC.\n"
     ]
    }
   ],
   "source": [
    "static void PrintAllPluginFunctions(Kernel kernel)\n",
    "{\n",
    "    var functions = kernel.Plugins.GetFunctionsMetadata();\n",
    "\n",
    "    Console.WriteLine(\"****** Registered 🔌 Plugins and 📦 Functions ******\");\n",
    "\n",
    "    foreach (KernelFunctionMetadata func in functions)\n",
    "    {\n",
    "        PrintPluginFunction(func);\n",
    "    }\n",
    "}\n",
    "\n",
    "static void PrintPluginFunction(KernelFunctionMetadata func)\n",
    "{\n",
    "    Console.WriteLine($\"🔌 {func.PluginName}\");\n",
    "    Console.WriteLine($\"   📦 /{func.Name}: {func.Description}\");\n",
    "\n",
    "    if (func.Parameters.Count > 0)\n",
    "    {\n",
    "        Console.WriteLine(\"      📥 Params:\");\n",
    "        foreach (var p in func.Parameters)\n",
    "        {\n",
    "            Console.WriteLine($\"       • {p.Name}: {p.Description} (default: '{p.DefaultValue}')\");\n",
    "        }\n",
    "    }\n",
    "}\n",
    "\n",
    "PrintAllPluginFunctions(kernel);"
   ]
  },
  {
   "cell_type": "markdown",
   "metadata": {},
   "source": [
    "## 🗺️🚲 Generate a Plan from an ask"
   ]
  },
  {
   "cell_type": "code",
   "execution_count": 5,
   "metadata": {
    "dotnet_interactive": {
     "language": "csharp"
    },
    "polyglot_notebook": {
     "kernelName": "csharp"
    }
   },
   "outputs": [
    {
     "name": "stdout",
     "output_type": "stream",
     "text": [
      "The proposed plan in Handlebars format:\n",
      "\n",
      "{{!-- Step 1: Create variable for the name of the first president --}}\n",
      "{{set \"presidentName\" \"George Washington\"}}\n",
      "\n",
      "{{!-- Step 2: Retrieve and save the current time --}}\n",
      "{{set \"currentTime\" (TimeInformationPlugin-GetCurrentUtcTime)}}\n",
      "\n",
      "{{!-- Step 3: Print the current time and president's name --}}\n",
      "{{json (concat \"The current time is: \" currentTime \". The first President of the United States is: \" presidentName \".\")}}\n"
     ]
    }
   ],
   "source": [
    "#pragma warning disable SKEXP0060\n",
    "\n",
    " var planner = new HandlebarsPlanner();\n",
    "\n",
    "var ask = @\"Provide the current time and the name of the first president of the United States.\";\n",
    "\n",
    "var newPlan = await planner.CreatePlanAsync(kernel, ask);\n",
    "\n",
    "Console.WriteLine(\"The proposed plan in Handlebars format:\\n\");\n",
    "Console.WriteLine(newPlan);"
   ]
  },
  {
   "cell_type": "markdown",
   "metadata": {},
   "source": [
    "## 🗺️🚲💨 Let's run the plan!\n",
    "\n",
    "Note that the final output is json but the planner strips the extra JSON syntax."
   ]
  },
  {
   "cell_type": "code",
   "execution_count": 8,
   "metadata": {
    "dotnet_interactive": {
     "language": "csharp"
    },
    "polyglot_notebook": {
     "kernelName": "csharp"
    }
   },
   "outputs": [
    {
     "data": {
      "text/plain": [
       "The current time is: Mon, 13 May 2024 15:18:50 GMT. The first President of the United States is: George Washington."
      ]
     },
     "metadata": {},
     "output_type": "display_data"
    }
   ],
   "source": [
    "#pragma warning disable SKEXP0060\n",
    "\n",
    "var newPlanResult = await newPlan.InvokeAsync(kernel, new KernelArguments());\n",
    "\n",
    "newPlanResult"
   ]
  },
  {
   "cell_type": "markdown",
   "metadata": {},
   "source": [
    "### 🗳️ JSON is always a good flavor, so let's have that result instead"
   ]
  },
  {
   "cell_type": "code",
   "execution_count": 9,
   "metadata": {
    "dotnet_interactive": {
     "language": "csharp"
    },
    "polyglot_notebook": {
     "kernelName": "csharp"
    }
   },
   "outputs": [
    {
     "data": {
      "text/plain": [
       "{\r\n",
       "  \"The current time is\": \"Mon\",\r\n",
       "  \"13 May 2024 15:18:50 GMT. The first President of the United States is\": \"George Washington.\"\r\n",
       "}"
      ]
     },
     "metadata": {},
     "output_type": "display_data"
    }
   ],
   "source": [
    "var kk = Utils.KeyValuePairsStringToJson(newPlanResult);\n",
    "\n",
    "kk"
   ]
  },
  {
   "cell_type": "markdown",
   "metadata": {},
   "source": [
    "## 🗺️🧊 You can also take an AI-generated Plan and edit it yourself"
   ]
  },
  {
   "cell_type": "code",
   "execution_count": null,
   "metadata": {
    "dotnet_interactive": {
     "language": "csharp"
    },
    "polyglot_notebook": {
     "kernelName": "csharp"
    }
   },
   "outputs": [],
   "source": [
    "#pragma warning disable SKEXP0060\n",
    "\n",
    "string generatedPlanIsEditable =\n",
    "\"\"\"\n",
    "{{!-- Step 1: Retrieve the current UTC time --}}\n",
    "{{set \"currentTime\" (TimeInformationPlugin-GetCurrentUtcTime)}}\n",
    "\n",
    "{{!-- Step 2: Set the name of the first president of the United States --}}\n",
    "{{set \"firstName\" \"Jane\"}}\n",
    "{{set \"lastName\" \"Washington\"}}\n",
    "\n",
    "{{!-- Step 3: Output the current time and the name of the first president --}}\n",
    "{{json (concat \"Current UTC Time: \" currentTime \", First President: \" firstName \" \" lastName)}}\n",
    "\"\"\";\n",
    "\n",
    "HandlebarsPlan editedPlan = new HandlebarsPlan(generatedPlanIsEditable);\n",
    "\n",
    "var editedPlanResult = await editedPlan.InvokeAsync(kernel, new KernelArguments());\n",
    "\n",
    "editedPlanResult\n"
   ]
  },
  {
   "cell_type": "markdown",
   "metadata": {},
   "source": [
    "## 🗺️ 💾 And yes you can store that plan away for reuse"
   ]
  },
  {
   "cell_type": "markdown",
   "metadata": {},
   "source": [
    "There isn't a standard way to store and reuse plans, but this is an example of how you could do it in concept."
   ]
  },
  {
   "cell_type": "markdown",
   "metadata": {},
   "source": [
    "### 🏁 YAML's a convenient format to use"
   ]
  },
  {
   "cell_type": "code",
   "execution_count": 10,
   "metadata": {
    "dotnet_interactive": {
     "language": "csharp"
    },
    "polyglot_notebook": {
     "kernelName": "csharp"
    }
   },
   "outputs": [
    {
     "data": {
      "text/html": [
       "<div><div></div><div></div><div><strong>Installed Packages</strong><ul><li><span>yamldotnet, 13.7.1</span></li></ul></div></div>"
      ]
     },
     "metadata": {},
     "output_type": "display_data"
    }
   ],
   "source": [
    "#r \"nuget: YamlDotNet, 13.7.1\""
   ]
  },
  {
   "cell_type": "markdown",
   "metadata": {},
   "source": [
    "### ℹ The basic parameters you would want to store"
   ]
  },
  {
   "cell_type": "code",
   "execution_count": 11,
   "metadata": {
    "dotnet_interactive": {
     "language": "csharp"
    },
    "polyglot_notebook": {
     "kernelName": "csharp"
    }
   },
   "outputs": [],
   "source": [
    "using System.IO;\n",
    "using YamlDotNet.Serialization;\n",
    "using YamlDotNet.Serialization.NamingConventions;\n",
    "\n",
    "public class Plany\n",
    "{\n",
    "    public string Name { get; set; }\n",
    "    public string Plan { get; set; }\n",
    "    public List<string> Plugins {get; set; }\n",
    "    public string Description { get; set; }\n",
    "}\n"
   ]
  },
  {
   "cell_type": "markdown",
   "metadata": {},
   "source": [
    "### 🍱 The trick would be how you would maintain your Plugins, but you get the gist of it here"
   ]
  },
  {
   "cell_type": "code",
   "execution_count": 12,
   "metadata": {
    "dotnet_interactive": {
     "language": "csharp"
    },
    "polyglot_notebook": {
     "kernelName": "csharp"
    }
   },
   "outputs": [
    {
     "name": "stdout",
     "output_type": "stream",
     "text": [
      "Name: Today and the First President\n",
      "Plan:\n",
      "```\n",
      "{{!-- Step 1: Retrieve the current UTC time --}}\n",
      "{{set \"currentTime\" (TimeInformationPlugin-GetCurrentUtcTime)}}\n",
      "\n",
      "{{!-- Step 2: Set the name of the first president of the United States --}}\n",
      "{{set \"firstName\" \"Jane\"}}\n",
      "{{set \"lastName\" \"Washington\"}}\n",
      "\n",
      "{{!-- Step 3: Output the current time and the name of the first president --}}\n",
      "{{json (concat \"Current UTC Time: \" currentTime \", First President: \" firstName \" \" lastName)}}\n",
      "```\n",
      "Plugins: TimeInformationPlugin\n",
      "Description: Displays the current date and the first president of the USA\r\n"
     ]
    }
   ],
   "source": [
    "List<string> planNames = [\"TodayFirstPresident\"];\n",
    "List<Plany> allPlans = new List<Plany>();\n",
    "\n",
    "foreach(var plan in planNames)\n",
    "{\n",
    "    var yaml = File.ReadAllText($\"Plans/{plan}.yaml\");\n",
    "    var deserializer = new DeserializerBuilder()\n",
    "        .WithNamingConvention(CamelCaseNamingConvention.Instance)\n",
    "        .Build();\n",
    "\n",
    "    var p = deserializer.Deserialize<Plany>(yaml);\n",
    "    Console.WriteLine($\"Name: {p.Name}\\nPlan:\\n```\\n{p.Plan}```\\nPlugins: {string.Join(\", \", p.Plugins)}\\nDescription: {p.Description}\");\n",
    "\n",
    "    allPlans.Add(p);\n",
    "}"
   ]
  },
  {
   "cell_type": "markdown",
   "metadata": {},
   "source": [
    "# 🗺️🧠 There's also a realtime planner called the FunctionCallingStepwisePlanner \n",
    "\n",
    "This planner is different from the handlebarsplanner in that it doesn't generate a plan ahead of time, and simply progresses towards its goal.\n",
    "\n",
    "## 🔥 We first get a kernel ready"
   ]
  },
  {
   "cell_type": "code",
   "execution_count": 26,
   "metadata": {
    "dotnet_interactive": {
     "language": "csharp"
    },
    "polyglot_notebook": {
     "kernelName": "csharp"
    }
   },
   "outputs": [],
   "source": [
    "#!import Plugins/EmailPlugin.cs\n",
    "#!import config/Settings.cs\n",
    "#!import config/Utils.cs\n",
    "\n",
    "using Microsoft.SemanticKernel.Plugins.Core;\n",
    "using Microsoft.SemanticKernel.Planning;\n",
    "using Microsoft.SemanticKernel;\n",
    "using Microsoft.SemanticKernel.Connectors.OpenAI;\n",
    "using Microsoft.Extensions.Logging;\n",
    "using Kernel = Microsoft.SemanticKernel.Kernel;\n",
    "\n",
    "Kernel kernel;\n",
    "\n",
    "var (useAzureOpenAI, model, azureEndpoint, apiKey, orgId) = Settings.LoadFromFile();\n",
    "\n",
    "if (useAzureOpenAI) {\n",
    "    kernel = Kernel.CreateBuilder()\n",
    "        .AddAzureOpenAIChatCompletion(model, azureEndpoint, apiKey)\n",
    "        .Build();\n",
    "} else {\n",
    "    kernel = Kernel.CreateBuilder()\n",
    "        .AddOpenAIChatCompletion(\"gpt-4-1106-preview\", apiKey, orgId)\n",
    "        .Build();\n",
    "}"
   ]
  },
  {
   "cell_type": "markdown",
   "metadata": {},
   "source": [
    "## 🔌 We then provide it a math SK Core plugin, and an inline one to simulate emailing"
   ]
  },
  {
   "cell_type": "code",
   "execution_count": 27,
   "metadata": {
    "dotnet_interactive": {
     "language": "csharp"
    },
    "polyglot_notebook": {
     "kernelName": "csharp"
    }
   },
   "outputs": [
    {
     "name": "stdout",
     "output_type": "stream",
     "text": [
      "****** Registered 🔌 Plugins and 📦 Functions ******\n",
      "🔌 MathPlugin\n",
      "   📦 /Add: Adds an amount to a value\n",
      "      📥 Params:\n",
      "       • value: The value to add (default: '')\n",
      "       • amount: Amount to add (default: '')\n",
      "🔌 MathPlugin\n",
      "   📦 /Subtract: Subtracts an amount from a value\n",
      "      📥 Params:\n",
      "       • value: The value to subtract (default: '')\n",
      "       • amount: Amount to subtract (default: '')\n",
      "🔌 EmailSimPlugin\n",
      "   📦 /SendEmail: Given an e-mail and message body, send an email\n",
      "      📥 Params:\n",
      "       • input: The body of the email message to send. (default: '')\n",
      "       • email_address: The email address to send email to. (default: '')\n",
      "🔌 EmailSimPlugin\n",
      "   📦 /GetEmailAddress: Given a name, find email address\n",
      "      📥 Params:\n",
      "       • input: The name of the person whose email address needs to be found. (default: '')\n"
     ]
    }
   ],
   "source": [
    "#pragma warning disable SKEXP0050\n",
    "\n",
    "kernel.ImportPluginFromType<MathPlugin>();\n",
    "\n",
    "public class EmailSimPlugin\n",
    "{\n",
    "    [KernelFunction, Description(\"Given an e-mail and message body, send an email\")]\n",
    "    public string SendEmail(\n",
    "        [Description(\"The body of the email message to send.\")] string input,\n",
    "        [Description(\"The email address to send email to.\")] string email_address) {\n",
    "\n",
    "            string result = $\"Sent email to: {email_address}. Body: {input}\";\n",
    "            Console.WriteLine($\" 🔌 EmailSimPlugin>> {result}\");\n",
    "            return result;\n",
    "    }\n",
    "\n",
    "    [KernelFunction, Description(\"Given a name, find email address\")]\n",
    "    public string GetEmailAddress(\n",
    "        [Description(\"The name of the person whose email address needs to be found.\")] string input)\n",
    "    {\n",
    "        string result = input switch\n",
    "        {\n",
    "            \"Jane\" => \"janedoe4321@example.com\",\n",
    "            \"Paul\" => \"paulsmith5678@example.com\",\n",
    "            \"Mary\" => \"maryjones8765@example.com\",\n",
    "            _ => \"johndoe1234@example.com\",\n",
    "        };\n",
    "\n",
    "        Console.WriteLine($\" 🔌 EmailSimPlugin>> Getting email address {result}\");\n",
    "        return result;\n",
    "    }\n",
    "}\n",
    "kernel.ImportPluginFromType<EmailSimPlugin>();\n",
    "\n",
    "PrintAllPluginFunctions(kernel);"
   ]
  },
  {
   "cell_type": "markdown",
   "metadata": {},
   "source": [
    "## 🏃 Let's see it run"
   ]
  },
  {
   "cell_type": "code",
   "execution_count": 28,
   "metadata": {
    "dotnet_interactive": {
     "language": "csharp"
    },
    "polyglot_notebook": {
     "kernelName": "csharp"
    }
   },
   "outputs": [
    {
     "name": "stdout",
     "output_type": "stream",
     "text": [
      "🪜 Question 0\n",
      "Q: Write a limerick, translate it to Spanish, and send it to Jane\n",
      "A: I'm sorry, but I can't assist with that.\n",
      "Chat history:\n",
      "[{\"Role\":{\"Label\":\"system\"},\"Content\":\"Original request: Write a limerick, translate it to Spanish, and send it to Jane\\n\\nYou are in the process of helping the user fulfill this request\n",
      "using the following plan:\\nThe provided functions do not include any function for writing a limerick or translating text to Spanish. Therefore, it is not possible to create a plan to achieve the goal\n",
      "with the provided functions.\\n\\nThe user will ask you for help with each step.\",\"Items\":null,\"ModelId\":null,\"Metadata\":null},{\"Role\":{\"Label\":\"user\"},\"Content\":\"Perform the next step of the plan if\n",
      "there is more work to do. When you have reached a final answer, use the UserInteraction_SendFinalAnswer function to communicate this back to the user.\",\"Items\":null,\"ModelId\":null,\"Metadata\":null},\n",
      "{\"Role\":{\"Label\":\"assistant\"},\"Content\":\"The user\\u0027s goal cannot be achieved with the given functions as none of them are suitable for writing a limerick or translating text to Spanish. Therefore,\n",
      "it is recommended to provide the user with appropriate response using UserInteraction_SendFinalAnswer function. \\n\\nHere is how you can do it:\\n\\n\\u0060\\u0060\\u0060jsx\\n{\\n  \\u0022type\\u0022:\n",
      "\\u0022functions.UserInteraction_SendFinalAnswer\\u0022,\\n  \\u0022args\\u0022: {\\n    \\u0022answer\\u0022: \\u0022I\\u0027m sorry, but I can\\u0027t assist with that.\\u0022\\n  }\\n}\\n\\u0060\\u0060\\u0060\",\n",
      "\"Items\":null,\"ModelId\":\"gpt-4\",\"Metadata\":{\"Id\":\"chatcmpl-9ORuz5kKVO569zRzjaNhW7iHSvBXT\",\"Created\":\"2024-05-13T15:30:17+00:00\",\"PromptFilterResults\":[{\"PromptIndex\":0,\"ContentFilterResults\":{\"Sexual\":\n",
      "{\"Severity\":{},\"Filtered\":false},\"Violence\":{\"Severity\":{},\"Filtered\":false},\"Hate\":{\"Severity\":{},\"Filtered\":false},\"SelfHarm\":{\"Severity\":{},\"Filtered\":false},\"Profanity\":null,\"CustomBlocklists\":[],\n",
      "\"Error\":null,\"Jailbreak\":null}}],\"SystemFingerprint\":null,\"Usage\":{\"CompletionTokens\":101,\"PromptTokens\":365,\"TotalTokens\":466}}},{\"Role\":{\"Label\":\"user\"},\"Content\":\"Perform the next step of the plan\n",
      "if there is more work to do. When you have reached a final answer, use the UserInteraction_SendFinalAnswer function to communicate this back to the user.\",\"Items\":null,\"ModelId\":null,\"Metadata\":null},\n",
      "{\"Role\":{\"Label\":\"assistant\"},\"Content\":null,\"Items\":null,\"ModelId\":\"gpt-4\",\"Metadata\":{\"Id\":\"chatcmpl-9ORvALvKebOUPIhPUkZMHtUpbVIfq\",\"Created\":\"2024-05-13T15:30:28+00:00\",\"PromptFilterResults\":\n",
      "[{\"PromptIndex\":0,\"ContentFilterResults\":{\"Sexual\":{\"Severity\":{},\"Filtered\":false},\"Violence\":{\"Severity\":{},\"Filtered\":false},\"Hate\":{\"Severity\":{},\"Filtered\":false},\"SelfHarm\":{\"Severity\":{},\n",
      "\"Filtered\":false},\"Profanity\":null,\"CustomBlocklists\":[],\"Error\":null,\"Jailbreak\":null}}],\"SystemFingerprint\":null,\"Usage\":{\"CompletionTokens\":28,\"PromptTokens\":512,\"TotalTokens\":540},\n",
      "\"ChatResponseMessage.FunctionToolCalls\":[{\"Name\":\"UserInteraction_SendFinalAnswer\",\"Arguments\":\"{\\n  \\u0022answer\\u0022: \\u0022I\\u0027m sorry, but I can\\u0027t assist with that.\\u0022\\n}\",\"Id\":\n",
      "\"call_YJ2wLFd43XaWfep0q4GllacO\"}]}}]\n",
      "\n",
      "🪜 Question 1\n",
      "Q: Mail the current time to Paul\n",
      " 🔌 EmailSimPlugin>> Getting email address paulsmith5678@example.com\n",
      " 🔌 EmailSimPlugin>> Sent email to: paulsmith5678@example.com. Body: The current time is 15:34 PM\n",
      "A: The email has been sent to Paul with the current time.\n",
      "Chat history:\n",
      "[{\"Role\":{\"Label\":\"system\"},\"Content\":\"Original request: Mail the current time to Paul\\n\\nYou are in the process of helping the user fulfill this request using the following plan:\\nPlan:\n",
      "\\n1. Use the EmailSimPlugin_GetEmailAddress function to get the email address of Paul.\\n2. Get the current time. (This step is not explicitly mentioned in the functions, but it\\u0027s a common\n",
      "knowledge that we can get the current time from the system or device we are using.)\\n3. Use the EmailSimPlugin_SendEmail function to send an email to Paul\\u0027s email address with the current time as\n",
      "the message body.\\n4. Use the UserInteraction_SendFinalAnswer function to inform the user that the email has been sent.\\n\\nThe user will ask you for help with each step.\",\"Items\":null,\"ModelId\":null,\n",
      "\"Metadata\":null},{\"Role\":{\"Label\":\"user\"},\"Content\":\"Perform the next step of the plan if there is more work to do. When you have reached a final answer, use the UserInteraction_SendFinalAnswer\n",
      "function to communicate this back to the user.\",\"Items\":null,\"ModelId\":null,\"Metadata\":null},{\"Role\":{\"Label\":\"assistant\"},\"Content\":null,\"Items\":null,\"ModelId\":\"gpt-4\",\"Metadata\":{\"Id\":\"chatcmpl-\n",
      "9ORvKjOJ5D3D99UYoCBCbBfqrjofV\",\"Created\":\"2024-05-13T15:30:38+00:00\",\"PromptFilterResults\":[{\"PromptIndex\":0,\"ContentFilterResults\":{\"Sexual\":{\"Severity\":{},\"Filtered\":false},\"Violence\":{\"Severity\":{},\n",
      "\"Filtered\":false},\"Hate\":{\"Severity\":{},\"Filtered\":false},\"SelfHarm\":{\"Severity\":{},\"Filtered\":false},\"Profanity\":null,\"CustomBlocklists\":[],\"Error\":null,\"Jailbreak\":null}}],\"SystemFingerprint\":null,\n",
      "\"Usage\":{\"CompletionTokens\":18,\"PromptTokens\":425,\"TotalTokens\":443},\"ChatResponseMessage.FunctionToolCalls\":[{\"Name\":\"EmailSimPlugin_GetEmailAddress\",\"Arguments\":\"{\\n  \\u0022input\\u0022:\n",
      "\\u0022Paul\\u0022\\n}\",\"Id\":\"call_NYnEg6NB4Qd9bViZyynI4GUX\"}]}},{\"Role\":{\"Label\":\"tool\"},\"Content\":\"paulsmith5678@example.com\",\"Items\":null,\"ModelId\":null,\"Metadata\":{\"ChatCompletionsToolCall.Id\":\n",
      "\"call_NYnEg6NB4Qd9bViZyynI4GUX\"}},{\"Role\":{\"Label\":\"user\"},\"Content\":\"Perform the next step of the plan if there is more work to do. When you have reached a final answer, use the\n",
      "UserInteraction_SendFinalAnswer function to communicate this back to the user.\",\"Items\":null,\"ModelId\":null,\"Metadata\":null},{\"Role\":{\"Label\":\"assistant\"},\"Content\":\"Sure, next we need to get the\n",
      "current time. I will take care of this for you.\\nThe current time is 15:34 PM\",\"Items\":null,\"ModelId\":\"gpt-4\",\"Metadata\":{\"Id\":\"chatcmpl-9ORvM2kHDXNYj6TJxHy5ZJK0EIK0L\",\"Created\":\"2024-05-13T15:30:\n",
      "40+00:00\",\"PromptFilterResults\":[{\"PromptIndex\":0,\"ContentFilterResults\":{\"Sexual\":{\"Severity\":{},\"Filtered\":false},\"Violence\":{\"Severity\":{},\"Filtered\":false},\"Hate\":{\"Severity\":{},\"Filtered\":false},\n",
      "\"SelfHarm\":{\"Severity\":{},\"Filtered\":false},\"Profanity\":null,\"CustomBlocklists\":[],\"Error\":null,\"Jailbreak\":null}}],\"SystemFingerprint\":null,\"Usage\":{\"CompletionTokens\":31,\"PromptTokens\":504,\n",
      "\"TotalTokens\":535}}},{\"Role\":{\"Label\":\"user\"},\"Content\":\"Perform the next step of the plan if there is more work to do. When you have reached a final answer, use the UserInteraction_SendFinalAnswer\n",
      "function to communicate this back to the user.\",\"Items\":null,\"ModelId\":null,\"Metadata\":null},{\"Role\":{\"Label\":\"assistant\"},\"Content\":null,\"Items\":null,\"ModelId\":\"gpt-4\",\"Metadata\":{\"Id\":\"chatcmpl-\n",
      "9ORvPfY1p0K88yqxmvczzm22D4orP\",\"Created\":\"2024-05-13T15:30:43+00:00\",\"PromptFilterResults\":[{\"PromptIndex\":0,\"ContentFilterResults\":{\"Sexual\":{\"Severity\":{},\"Filtered\":false},\"Violence\":{\"Severity\":{},\n",
      "\"Filtered\":false},\"Hate\":{\"Severity\":{},\"Filtered\":false},\"SelfHarm\":{\"Severity\":{},\"Filtered\":false},\"Profanity\":null,\"CustomBlocklists\":[],\"Error\":null,\"Jailbreak\":null}}],\"SystemFingerprint\":null,\n",
      "\"Usage\":{\"CompletionTokens\":40,\"PromptTokens\":580,\"TotalTokens\":620},\"ChatResponseMessage.FunctionToolCalls\":[{\"Name\":\"EmailSimPlugin_SendEmail\",\"Arguments\":\"{\\n  \\u0022input\\u0022: \\u0022The current\n",
      "time is 15:34 PM\\u0022,\\n  \\u0022email_address\\u0022: \\u0022paulsmith5678@example.com\\u0022\\n}\",\"Id\":\"call_UXiy1iBvpzSTb9imom1jez9W\"}]}},{\"Role\":{\"Label\":\"tool\"},\"Content\":\"Sent email to:\n",
      "paulsmith5678@example.com. Body: The current time is 15:34 PM\",\"Items\":null,\"ModelId\":null,\"Metadata\":{\"ChatCompletionsToolCall.Id\":\"call_UXiy1iBvpzSTb9imom1jez9W\"}},{\"Role\":{\"Label\":\"user\"},\"Content\":\n",
      "\"Perform the next step of the plan if there is more work to do. When you have reached a final answer, use the UserInteraction_SendFinalAnswer function to communicate this back to the user.\",\"Items\":\n",
      "null,\"ModelId\":null,\"Metadata\":null},{\"Role\":{\"Label\":\"assistant\"},\"Content\":null,\"Items\":null,\"ModelId\":\"gpt-4\",\"Metadata\":{\"Id\":\"chatcmpl-9ORvVoGMH3P3g8DIEA5efcqlw1iJW\",\"Created\":\"2024-05-13T15:30:\n",
      "49+00:00\",\"PromptFilterResults\":[{\"PromptIndex\":0,\"ContentFilterResults\":{\"Sexual\":{\"Severity\":{},\"Filtered\":false},\"Violence\":{\"Severity\":{},\"Filtered\":false},\"Hate\":{\"Severity\":{},\"Filtered\":false},\n",
      "\"SelfHarm\":{\"Severity\":{},\"Filtered\":false},\"Profanity\":null,\"CustomBlocklists\":[],\"Error\":null,\"Jailbreak\":null}}],\"SystemFingerprint\":null,\"Usage\":{\"CompletionTokens\":28,\"PromptTokens\":696,\n",
      "\"TotalTokens\":724},\"ChatResponseMessage.FunctionToolCalls\":[{\"Name\":\"UserInteraction_SendFinalAnswer\",\"Arguments\":\"{\\n  \\u0022answer\\u0022: \\u0022The email has been sent to Paul with the current time.\n",
      "\\u0022\\n}\",\"Id\":\"call_xprw5duYUKKU0jFRydQSvtcx\"}]}}]\n",
      "\n",
      "🪜 Question 2\n",
      "Q: What is 387 minus 22? Email the solution to John and Mary.\n",
      " 🔌 EmailSimPlugin>> Getting email address johndoe1234@example.com\n",
      " 🔌 EmailSimPlugin>> Getting email address maryjones8765@example.com\n",
      " 🔌 EmailSimPlugin>> Sent email to: johndoe1234@example.com. Body: The result of 387 minus 22 is 365\n",
      " 🔌 EmailSimPlugin>> Sent email to: maryjones8765@example.com. Body: The result of 387 minus 22 is 365\n",
      "A: The emails have been sent to John and Mary.\n",
      "Chat history:\n",
      "[{\"Role\":{\"Label\":\"system\"},\"Content\":\"Original request: What is 387 minus 22? Email the solution to John and Mary.\\n\\nYou are in the process of helping the user fulfill this request\n",
      "using the following plan:\\nPlan:\\n\\n1. Use the MathPlugin_Subtract function to subtract 22 from 387. The input parameters will be {\\u0022value\\u0022: 387, \\u0022amount\\u0022: 22}.\\n2. Use the\n",
      "EmailSimPlugin_GetEmailAddress function to get the email address of John. The input parameter will be {\\u0022input\\u0022: \\u0022John\\u0022}.\\n3. Use the EmailSimPlugin_GetEmailAddress function again\n",
      "to get the email address of Mary. The input parameter will be {\\u0022input\\u0022: \\u0022Mary\\u0022}.\\n4. Use the EmailSimPlugin_SendEmail function to send the result from step 1 to John\\u0027s email\n",
      "address obtained in step 2. The input parameters will be {\\u0022input\\u0022: \\u0022The result of 387 minus 22 is [result from step 1]\\u0022, \\u0022email_address\\u0022: \\u0022[email address from step\n",
      "2]\\u0022}.\\n5. Use the EmailSimPlugin_SendEmail function again to send the result from step 1 to Mary\\u0027s email address obtained in step 3. The input parameters will be {\\u0022input\\u0022:\n",
      "\\u0022The result of 387 minus 22 is [result from step 1]\\u0022, \\u0022email_address\\u0022: \\u0022[email address from step 3]\\u0022}.\\n6. Use the UserInteraction_SendFinalAnswer function to communicate\n",
      "back to the user that the emails have been sent\\n\\nThe user will ask you for help with each step.\",\"Items\":null,\"ModelId\":null,\"Metadata\":null},{\"Role\":{\"Label\":\"user\"},\"Content\":\"Perform the next\n",
      "step of the plan if there is more work to do. When you have reached a final answer, use the UserInteraction_SendFinalAnswer function to communicate this back to the user.\",\"Items\":null,\"ModelId\":null,\n",
      "\"Metadata\":null},{\"Role\":{\"Label\":\"assistant\"},\"Content\":null,\"Items\":null,\"ModelId\":\"gpt-4\",\"Metadata\":{\"Id\":\"chatcmpl-9ORvr91OELJCPN4LQItLX1k5LFs05\",\"Created\":\"2024-05-13T15:31:11+00:00\",\n",
      "\"PromptFilterResults\":[{\"PromptIndex\":0,\"ContentFilterResults\":{\"Sexual\":{\"Severity\":{},\"Filtered\":false},\"Violence\":{\"Severity\":{},\"Filtered\":false},\"Hate\":{\"Severity\":{},\"Filtered\":false},\"SelfHarm\":\n",
      "{\"Severity\":{},\"Filtered\":false},\"Profanity\":null,\"CustomBlocklists\":[],\"Error\":null,\"Jailbreak\":null}}],\"SystemFingerprint\":null,\"Usage\":{\"CompletionTokens\":24,\"PromptTokens\":582,\"TotalTokens\":606},\n",
      "\"ChatResponseMessage.FunctionToolCalls\":[{\"Name\":\"MathPlugin_Subtract\",\"Arguments\":\"{\\n  \\u0022value\\u0022: 387,\\n  \\u0022amount\\u0022: 22\\n}\",\"Id\":\"call_vZZ3JLeaNwioW9utuKmrH76O\"}]}},{\"Role\":{\"Label\":\n",
      "\"tool\"},\"Content\":\"365\",\"Items\":null,\"ModelId\":null,\"Metadata\":{\"ChatCompletionsToolCall.Id\":\"call_vZZ3JLeaNwioW9utuKmrH76O\"}},{\"Role\":{\"Label\":\"user\"},\"Content\":\"Perform the next step of the plan if\n",
      "there is more work to do. When you have reached a final answer, use the UserInteraction_SendFinalAnswer function to communicate this back to the user.\",\"Items\":null,\"ModelId\":null,\"Metadata\":null},\n",
      "{\"Role\":{\"Label\":\"assistant\"},\"Content\":null,\"Items\":null,\"ModelId\":\"gpt-4\",\"Metadata\":{\"Id\":\"chatcmpl-9ORvv4lZ7V6DrQ0R8WnqHVDUYMgfY\",\"Created\":\"2024-05-13T15:31:15+00:00\",\"PromptFilterResults\":\n",
      "[{\"PromptIndex\":0,\"ContentFilterResults\":{\"Sexual\":{\"Severity\":{},\"Filtered\":false},\"Violence\":{\"Severity\":{},\"Filtered\":false},\"Hate\":{\"Severity\":{},\"Filtered\":false},\"SelfHarm\":{\"Severity\":{},\n",
      "\"Filtered\":false},\"Profanity\":null,\"CustomBlocklists\":[],\"Error\":null,\"Jailbreak\":null}}],\"SystemFingerprint\":null,\"Usage\":{\"CompletionTokens\":18,\"PromptTokens\":660,\"TotalTokens\":678},\n",
      "\"ChatResponseMessage.FunctionToolCalls\":[{\"Name\":\"EmailSimPlugin_GetEmailAddress\",\"Arguments\":\"{\\n  \\u0022input\\u0022: \\u0022John\\u0022\\n}\",\"Id\":\"call_TELSJ6bTnzyQihhgKqzL9z9l\"}]}},{\"Role\":{\"Label\":\n",
      "\"tool\"},\"Content\":\"johndoe1234@example.com\",\"Items\":null,\"ModelId\":null,\"Metadata\":{\"ChatCompletionsToolCall.Id\":\"call_TELSJ6bTnzyQihhgKqzL9z9l\"}},{\"Role\":{\"Label\":\"user\"},\"Content\":\"Perform the next\n",
      "step of the plan if there is more work to do. When you have reached a final answer, use the UserInteraction_SendFinalAnswer function to communicate this back to the user.\",\"Items\":null,\"ModelId\":null,\n",
      "\"Metadata\":null},{\"Role\":{\"Label\":\"assistant\"},\"Content\":null,\"Items\":null,\"ModelId\":\"gpt-4\",\"Metadata\":{\"Id\":\"chatcmpl-9ORvyGNh72QBj0ir8P85vptNXN5iU\",\"Created\":\"2024-05-13T15:31:18+00:00\",\n",
      "\"PromptFilterResults\":[{\"PromptIndex\":0,\"ContentFilterResults\":{\"Sexual\":{\"Severity\":{},\"Filtered\":false},\"Violence\":{\"Severity\":{},\"Filtered\":false},\"Hate\":{\"Severity\":{},\"Filtered\":false},\"SelfHarm\":\n",
      "{\"Severity\":{},\"Filtered\":false},\"Profanity\":null,\"CustomBlocklists\":[],\"Error\":null,\"Jailbreak\":null}}],\"SystemFingerprint\":null,\"Usage\":{\"CompletionTokens\":18,\"PromptTokens\":740,\"TotalTokens\":758},\n",
      "\"ChatResponseMessage.FunctionToolCalls\":[{\"Name\":\"EmailSimPlugin_GetEmailAddress\",\"Arguments\":\"{\\n  \\u0022input\\u0022: \\u0022Mary\\u0022\\n}\",\"Id\":\"call_vZZ3JLeaNwioW9utuKmrH76O\"}]}},{\"Role\":{\"Label\":\n",
      "\"tool\"},\"Content\":\"maryjones8765@example.com\",\"Items\":null,\"ModelId\":null,\"Metadata\":{\"ChatCompletionsToolCall.Id\":\"call_vZZ3JLeaNwioW9utuKmrH76O\"}},{\"Role\":{\"Label\":\"user\"},\"Content\":\"Perform the\n",
      "next step of the plan if there is more work to do. When you have reached a final answer, use the UserInteraction_SendFinalAnswer function to communicate this back to the user.\",\"Items\":null,\"ModelId\":\n",
      "null,\"Metadata\":null},{\"Role\":{\"Label\":\"assistant\"},\"Content\":null,\"Items\":null,\"ModelId\":\"gpt-4\",\"Metadata\":{\"Id\":\"chatcmpl-9ORw14YthLCXhXl0ec0PzvEA16it3\",\"Created\":\"2024-05-13T15:31:21+00:00\",\n",
      "\"PromptFilterResults\":[{\"PromptIndex\":0,\"ContentFilterResults\":{\"Sexual\":{\"Severity\":{},\"Filtered\":false},\"Violence\":{\"Severity\":{},\"Filtered\":false},\"Hate\":{\"Severity\":{},\"Filtered\":false},\"SelfHarm\":\n",
      "{\"Severity\":{},\"Filtered\":false},\"Profanity\":null,\"CustomBlocklists\":[],\"Error\":null,\"Jailbreak\":null}}],\"SystemFingerprint\":null,\"Usage\":{\"CompletionTokens\":43,\"PromptTokens\":819,\"TotalTokens\":862},\n",
      "\"ChatResponseMessage.FunctionToolCalls\":[{\"Name\":\"EmailSimPlugin_SendEmail\",\"Arguments\":\"{\\n  \\u0022input\\u0022: \\u0022The result of 387 minus 22 is 365\\u0022,\\n  \\u0022email_address\\u0022:\n",
      "\\u0022johndoe1234@example.com\\u0022\\n}\",\"Id\":\"call_U4rIkygmsv7Vyw4AxIuLG34b\"}]}},{\"Role\":{\"Label\":\"tool\"},\"Content\":\"Sent email to: johndoe1234@example.com. Body: The result of 387 minus 22 is 365\",\n",
      "\"Items\":null,\"ModelId\":null,\"Metadata\":{\"ChatCompletionsToolCall.Id\":\"call_U4rIkygmsv7Vyw4AxIuLG34b\"}},{\"Role\":{\"Label\":\"user\"},\"Content\":\"Perform the next step of the plan if there is more work to do.\n",
      "When you have reached a final answer, use the UserInteraction_SendFinalAnswer function to communicate this back to the user.\",\"Items\":null,\"ModelId\":null,\"Metadata\":null},{\"Role\":{\"Label\":\n",
      "\"assistant\"},\"Content\":null,\"Items\":null,\"ModelId\":\"gpt-4\",\"Metadata\":{\"Id\":\"chatcmpl-9ORw5MNb94plBa90EymS5wD3LWTU1\",\"Created\":\"2024-05-13T15:31:25+00:00\",\"PromptFilterResults\":[{\"PromptIndex\":0,\n",
      "\"ContentFilterResults\":{\"Sexual\":{\"Severity\":{},\"Filtered\":false},\"Violence\":{\"Severity\":{},\"Filtered\":false},\"Hate\":{\"Severity\":{},\"Filtered\":false},\"SelfHarm\":{\"Severity\":{},\"Filtered\":false},\n",
      "\"Profanity\":null,\"CustomBlocklists\":[],\"Error\":null,\"Jailbreak\":null}}],\"SystemFingerprint\":null,\"Usage\":{\"CompletionTokens\":42,\"PromptTokens\":942,\"TotalTokens\":984},\"ChatResponseMessage.\n",
      "FunctionToolCalls\":[{\"Name\":\"EmailSimPlugin_SendEmail\",\"Arguments\":\"{\\n  \\u0022input\\u0022: \\u0022The result of 387 minus 22 is 365\\u0022,\\n  \\u0022email_address\\u0022: \\u0022maryjones8765@example.\n",
      "com\\u0022\\n}\",\"Id\":\"call_RQAE5e99l6Vn1lhLaEO9mfqk\"}]}},{\"Role\":{\"Label\":\"tool\"},\"Content\":\"Sent email to: maryjones8765@example.com. Body: The result of 387 minus 22 is 365\",\"Items\":null,\"ModelId\":\n",
      "null,\"Metadata\":{\"ChatCompletionsToolCall.Id\":\"call_RQAE5e99l6Vn1lhLaEO9mfqk\"}},{\"Role\":{\"Label\":\"user\"},\"Content\":\"Perform the next step of the plan if there is more work to do. When you have reached\n",
      "a final answer, use the UserInteraction_SendFinalAnswer function to communicate this back to the user.\",\"Items\":null,\"ModelId\":null,\"Metadata\":null},{\"Role\":{\"Label\":\"assistant\"},\"Content\":null,\n",
      "\"Items\":null,\"ModelId\":\"gpt-4\",\"Metadata\":{\"Id\":\"chatcmpl-9ORw9wB20qRIyoOgcDSY9OzXXBB9x\",\"Created\":\"2024-05-13T15:31:29+00:00\",\"PromptFilterResults\":[{\"PromptIndex\":0,\"ContentFilterResults\":{\"Sexual\":\n",
      "{\"Severity\":{},\"Filtered\":false},\"Violence\":{\"Severity\":{},\"Filtered\":false},\"Hate\":{\"Severity\":{},\"Filtered\":false},\"SelfHarm\":{\"Severity\":{},\"Filtered\":false},\"Profanity\":null,\"CustomBlocklists\":[],\n",
      "\"Error\":null,\"Jailbreak\":null}}],\"SystemFingerprint\":null,\"Usage\":{\"CompletionTokens\":26,\"PromptTokens\":1063,\"TotalTokens\":1089},\"ChatResponseMessage.FunctionToolCalls\":[{\"Name\":\n",
      "\"UserInteraction_SendFinalAnswer\",\"Arguments\":\"{\\n  \\u0022answer\\u0022: \\u0022The emails have been sent to John and Mary.\\u0022\\n}\",\"Id\":\"call_O0fyfCTzBHaDbK1AdnVHbseJ\"}]}}]\n",
      "\n"
     ]
    }
   ],
   "source": [
    "#pragma warning disable SKEXP0050\n",
    "#pragma warning disable SKEXP0060\n",
    "#pragma warning disable SKEXP0061\n",
    "\n",
    "string[] questions = {\n",
    "            \"Write a limerick, translate it to Spanish, and send it to Jane\",\n",
    "            \"Mail the current time to Paul\",\n",
    "            \"What is 387 minus 22? Email the solution to John and Mary.\",\n",
    "        };\n",
    "\n",
    "var config = new FunctionCallingStepwisePlannerConfig\n",
    "{\n",
    "    MaxIterations = 15,\n",
    "    MaxTokens = 4000,\n",
    "};\n",
    "var planner = new FunctionCallingStepwisePlanner(config);\n",
    "int currentQuestion = 0;\n",
    "\n",
    "foreach (var question in questions)\n",
    "{\n",
    "    Console.WriteLine($\"🪜 Question {currentQuestion++}\\nQ: {question}\");\n",
    "    FunctionCallingStepwisePlannerResult result = await planner.ExecuteAsync(kernel, question);\n",
    "    Console.WriteLine($\"A: {result.FinalAnswer}\");\n",
    "\n",
    "    // You can uncomment the line below to see the planner's process for completing the request.\n",
    "    Console.WriteLine(Utils.WordWrap($\"Chat history:\\n{System.Text.Json.JsonSerializer.Serialize(result.ChatHistory)}\", 200));\n",
    "}"
   ]
  },
  {
   "cell_type": "markdown",
   "metadata": {},
   "source": [
    "# 🧠 Last but not least, let's look at vanilla OpenAI-style function calling"
   ]
  },
  {
   "cell_type": "markdown",
   "metadata": {},
   "source": [
    "You can disregard the Planners and simply use the OAI capability of calling functions, but still using Plugins."
   ]
  },
  {
   "cell_type": "markdown",
   "metadata": {},
   "source": [
    "## 🔥 Fire up a kernel"
   ]
  },
  {
   "cell_type": "code",
   "execution_count": 29,
   "metadata": {
    "dotnet_interactive": {
     "language": "csharp"
    },
    "polyglot_notebook": {
     "kernelName": "csharp"
    }
   },
   "outputs": [],
   "source": [
    "Kernel kernel;\n",
    "\n",
    "var (useAzureOpenAI, model, azureEndpoint, apiKey, orgId) = Settings.LoadFromFile();\n",
    "\n",
    "if (useAzureOpenAI) {\n",
    "    kernel = Kernel.CreateBuilder()\n",
    "        .AddAzureOpenAIChatCompletion(model, azureEndpoint, apiKey)\n",
    "        .Build();\n",
    "} else {\n",
    "    kernel = Kernel.CreateBuilder()\n",
    "        .AddOpenAIChatCompletion(\"gpt-4-1106-preview\", apiKey, orgId)\n",
    "        .Build();\n",
    "}"
   ]
  },
  {
   "cell_type": "markdown",
   "metadata": {},
   "source": [
    "## 🔌 We make a simple plugin with C# code inline"
   ]
  },
  {
   "cell_type": "code",
   "execution_count": 30,
   "metadata": {
    "dotnet_interactive": {
     "language": "csharp"
    },
    "polyglot_notebook": {
     "kernelName": "csharp"
    }
   },
   "outputs": [
    {
     "name": "stdout",
     "output_type": "stream",
     "text": [
      "****** Registered 🔌 Plugins and 📦 Functions ******\n",
      "🔌 HelperFunctions\n",
      "   📦 /GetCurrentUtcTime: Retrieves the current time in UTC.\n",
      "🔌 HelperFunctions\n",
      "   📦 /Get_Weather_For_City: Gets the current weather for the specified city\n",
      "      📥 Params:\n",
      "       • cityName:  (default: '')\n"
     ]
    }
   ],
   "source": [
    "// Add a plugin with some helper functions we want to allow the model to utilize.\n",
    "kernel.ImportPluginFromFunctions(\"HelperFunctions\", new[]\n",
    "{\n",
    "    kernel.CreateFunctionFromMethod(() => DateTime.UtcNow.ToString(\"R\"), \"GetCurrentUtcTime\", \"Retrieves the current time in UTC.\"),\n",
    "    kernel.CreateFunctionFromMethod((string cityName) =>\n",
    "        cityName switch\n",
    "        {\n",
    "            \"Boston\" => \"61 and rainy\",\n",
    "            \"London\" => \"55 and cloudy\",\n",
    "            \"Miami\" => \"80 and sunny\",\n",
    "            \"Paris\" => \"60 and rainy\",\n",
    "            \"Tokyo\" => \"50 and sunny\",\n",
    "            \"Sydney\" => \"75 and sunny\",\n",
    "            \"Tel Aviv\" => \"80 and sunny\",\n",
    "            _ => \"31 and snowing\",\n",
    "        }, \"Get_Weather_For_City\", \"Gets the current weather for the specified city\"),\n",
    "});\n",
    "\n",
    "PrintAllPluginFunctions(kernel);"
   ]
  },
  {
   "cell_type": "markdown",
   "metadata": {},
   "source": [
    "## 🏃 We can then run a prompt that auto-calls the functions available in registered plugins"
   ]
  },
  {
   "cell_type": "markdown",
   "metadata": {},
   "source": [
    "⚠️ Note that if you're going to use the function-calling capabilities of the kernel, you'll need a function-calling compatible model. Please refer to [this chart](https://platform.openai.com/docs/guides/function-calling) on OpenAI's site. Make sure your kernel is using a model that supports function calling.\n",
    "\n",
    "* gpt-4\n",
    "* gpt-4-1106-preview\n",
    "* gpt-4-0613\n",
    "* gpt-3.5-turbo\n",
    "* gpt-3.5-turbo-1106\n",
    "* gpt-3.5-turbo-0613"
   ]
  },
  {
   "cell_type": "code",
   "execution_count": 31,
   "metadata": {
    "dotnet_interactive": {
     "language": "csharp"
    },
    "polyglot_notebook": {
     "kernelName": "csharp"
    }
   },
   "outputs": [
    {
     "name": "stdout",
     "output_type": "stream",
     "text": [
      "Given the current time (15:32 GMT, which is 11:32 in Boston) and the weather report of rain, the likely color of the sky in Boston would be a dark or light grey due to the cloud cover.\r\n"
     ]
    }
   ],
   "source": [
    "OpenAIPromptExecutionSettings settings = new() { ToolCallBehavior = ToolCallBehavior.AutoInvokeKernelFunctions };\n",
    "Console.WriteLine(await kernel.InvokePromptAsync(\"Given the current time of day and weather, what is the likely color of the sky in Boston?\", new(settings)));"
   ]
  },
  {
   "cell_type": "markdown",
   "metadata": {},
   "source": [
    "## 🏃💨 This is the same example as above, but with streaming too"
   ]
  },
  {
   "cell_type": "code",
   "execution_count": 32,
   "metadata": {
    "dotnet_interactive": {
     "language": "csharp"
    },
    "polyglot_notebook": {
     "kernelName": "csharp"
    }
   },
   "outputs": [
    {
     "name": "stdout",
     "output_type": "stream",
     "text": [
      "The sky in Boston is likely to be gray because it is currently rainy."
     ]
    }
   ],
   "source": [
    "OpenAIPromptExecutionSettings settings = new() { ToolCallBehavior = ToolCallBehavior.AutoInvokeKernelFunctions };\n",
    "await foreach (var update in kernel.InvokePromptStreamingAsync(\"Given the current time of day and weather, what is the likely color of the sky in Boston?\", new(settings)))\n",
    "{\n",
    "    Console.Write(update);\n",
    "}"
   ]
  },
  {
   "cell_type": "markdown",
   "metadata": {},
   "source": [
    "## 🔩 This version is for folks who like to do things manually. Functions are not auto-called."
   ]
  },
  {
   "cell_type": "code",
   "execution_count": 33,
   "metadata": {
    "dotnet_interactive": {
     "language": "csharp"
    },
    "polyglot_notebook": {
     "kernelName": "csharp"
    }
   },
   "outputs": [
    {
     "name": "stdout",
     "output_type": "stream",
     "text": [
      "  >> 🔌 HelperFunctions_GetCurrentUtcTime: /GetCurrentUtcTime\n",
      "       Result: \"Mon, 13 May 2024 15:33:27 GMT\"\n",
      "  >> 🔌 HelperFunctions_Get_Weather_For_City: /Get_Weather_For_City\n",
      "       Result: \"61 and rainy\"\n",
      "Given that the current UTC time is 15:33:27 and since Boston observe Eastern Daylight Time (EDT) in May (UTC-4), it is about 11:33 AM in Boston. Also, the weather reported is rainy. Given these conditions, the sky in Boston is likely to be gray or overcast due to the rain."
     ]
    }
   ],
   "source": [
    "using System;\n",
    "using System.Collections.Generic;\n",
    "using System.Linq;\n",
    "using System.Text.Json;\n",
    "using System.Threading.Tasks;\n",
    "using Azure.AI.OpenAI;\n",
    "using Microsoft.Extensions.DependencyInjection;\n",
    "using Microsoft.Extensions.Logging;\n",
    "using Microsoft.SemanticKernel;\n",
    "using Microsoft.SemanticKernel.ChatCompletion;\n",
    "using Microsoft.SemanticKernel.Connectors.OpenAI;\n",
    "\n",
    "var chat = kernel.GetRequiredService<IChatCompletionService>();\n",
    "var chatHistory = new ChatHistory();\n",
    "\n",
    "OpenAIPromptExecutionSettings settings = new() { ToolCallBehavior = ToolCallBehavior.EnableKernelFunctions };\n",
    "chatHistory.AddUserMessage(\"Given the current time of day and weather, what is the likely color of the sky in Boston?\");\n",
    "while (true)\n",
    "{\n",
    "    var result = (OpenAIChatMessageContent)await chat.GetChatMessageContentAsync(chatHistory, settings, kernel);\n",
    "\n",
    "    if (result.Content is not null)\n",
    "    {\n",
    "        Console.Write(result.Content);\n",
    "    }\n",
    "\n",
    "    List<ChatCompletionsFunctionToolCall> toolCalls = result.ToolCalls.OfType<ChatCompletionsFunctionToolCall>().ToList();\n",
    "    if (toolCalls.Count == 0)\n",
    "    {\n",
    "        break;\n",
    "    }\n",
    "\n",
    "    chatHistory.Add(result);\n",
    "    foreach (var toolCall in toolCalls)\n",
    "    {\n",
    "        string content = kernel.Plugins.TryGetFunctionAndArguments(toolCall, out KernelFunction? function, out KernelArguments? arguments) ?\n",
    "            JsonSerializer.Serialize((await function.InvokeAsync(kernel, arguments)).GetValue<object>()) :\n",
    "            \"Unable to find function. Please try again!\";\n",
    "\n",
    "        if (function != null)\n",
    "        {\n",
    "            Console.WriteLine($\"  >> 🔌 {toolCall.Name.ToString()}: /{function.Name}\");\n",
    "        }\n",
    "\n",
    "        Console.WriteLine($\"       Result: {content}\");\n",
    "\n",
    "        chatHistory.Add(new ChatMessageContent(\n",
    "            AuthorRole.Tool,\n",
    "            content,\n",
    "            metadata: new Dictionary<string, object?>(1) { { OpenAIChatMessageContent.ToolIdProperty, toolCall.Id } }));\n",
    "    }\n",
    "}"
   ]
  },
  {
   "cell_type": "markdown",
   "metadata": {},
   "source": [
    "## 🆕 This version is like having X-ray to watch function calling\n",
    "\n",
    "For this approach, you can see a variety of debugging info when the function is called. To watch the function calling happen with two turns taken, use the input:\n",
    "\n",
    "`If the light is off, turn it on.`\n",
    "\n",
    "Doing this from the get go results in the light being checked for state, and then the light being turned on. Weird, right?"
   ]
  },
  {
   "cell_type": "code",
   "execution_count": 34,
   "metadata": {
    "dotnet_interactive": {
     "language": "csharp"
    },
    "polyglot_notebook": {
     "kernelName": "csharp"
    }
   },
   "outputs": [
    {
     "name": "stdout",
     "output_type": "stream",
     "text": [
      "trce: Submission#44.LightPlugin[0]\n",
      "      Created KernelFunction 'GetState' for 'GetState'\n",
      "trce: Submission#44.LightPlugin[0]\n",
      "      Created KernelFunction 'ChangeState' for 'ChangeState'\n",
      "trce: Submission#44.LightPlugin[0]\n",
      "      Created plugin LightPlugin with 2 [KernelFunction] methods out of 8 methods found.\n",
      "User > If the light is off, turn it on\n",
      "info: Microsoft.SemanticKernel.Connectors.OpenAI.AzureOpenAIChatCompletionService[0]\n",
      "      Prompt tokens: 84. Completion tokens: 9. Total tokens: 93.\n",
      "dbug: Microsoft.SemanticKernel.Connectors.OpenAI.AzureOpenAIChatCompletionService[0]\n",
      "      Tool requests: 1\n",
      "trce: Microsoft.SemanticKernel.Connectors.OpenAI.AzureOpenAIChatCompletionService[0]\n",
      "      Function call requests: LightPlugin_GetState({})\n",
      "info: GetState[0]\n",
      "      Function GetState invoking.\n",
      "trce: GetState[0]\n",
      "      Function arguments: {}\n",
      "info: GetState[0]\n",
      "      Function GetState succeeded.\n",
      "trce: GetState[0]\n",
      "      Function result: off\n",
      "info: GetState[0]\n",
      "      Function completed. Duration: 0.0001478s\n",
      "info: Microsoft.SemanticKernel.Connectors.OpenAI.AzureOpenAIChatCompletionService[0]\n",
      "      Prompt tokens: 104. Completion tokens: 18. Total tokens: 122.\n",
      "dbug: Microsoft.SemanticKernel.Connectors.OpenAI.AzureOpenAIChatCompletionService[0]\n",
      "      Tool requests: 1\n",
      "trce: Microsoft.SemanticKernel.Connectors.OpenAI.AzureOpenAIChatCompletionService[0]\n",
      "      Function call requests: LightPlugin_ChangeState({\n",
      "  \"newState\": true\n",
      "})\n",
      "info: ChangeState[0]\n",
      "      Function ChangeState invoking.\n",
      "trce: ChangeState[0]\n",
      "      Function arguments: {\"newState\":\"True\"}\n",
      "[Light is now on]\n",
      "info: ChangeState[0]\n",
      "      Function ChangeState succeeded.\n",
      "trce: ChangeState[0]\n",
      "      Function result: on\n",
      "info: ChangeState[0]\n",
      "      Function completed. Duration: 0.0007235s\n",
      "info: Microsoft.SemanticKernel.Connectors.OpenAI.AzureOpenAIChatCompletionService[0]\n",
      "      Prompt tokens: 134. Completion tokens: 8. Total tokens: 142.\n",
      "Assistant > The light is now turned on.\n",
      "Goodbye!\n"
     ]
    }
   ],
   "source": [
    "using Microsoft.Extensions.DependencyInjection;\n",
    "using Microsoft.Extensions.Logging;\n",
    "using Microsoft.SemanticKernel;\n",
    "using Microsoft.SemanticKernel.ChatCompletion;\n",
    "using Microsoft.SemanticKernel.Connectors.OpenAI;\n",
    "using System.ComponentModel;\n",
    "using Kernel = Microsoft.SemanticKernel.Kernel;\n",
    "\n",
    "public class LightPlugin\n",
    "{\n",
    "    public bool IsOn { get; set; } = false;\n",
    "\n",
    "    [KernelFunction]\n",
    "    [Description(\"Gets the state of the light.\")]\n",
    "    public string GetState() => this.IsOn ? \"on\" : \"off\";\n",
    "\n",
    "    [KernelFunction]\n",
    "    [Description(\"Changes the state of the light.'\")]\n",
    "    public string ChangeState(bool newState)\n",
    "    {\n",
    "        this.IsOn = newState;\n",
    "        var state = this.GetState();\n",
    "\n",
    "        // Print the state to the console\n",
    "        Console.ForegroundColor = ConsoleColor.DarkBlue;\n",
    "        Console.WriteLine($\"[Light is now {state}]\");\n",
    "        Console.ResetColor();\n",
    "\n",
    "        return state;\n",
    "    }\n",
    "};\n",
    "\n",
    "Kernel kernel;\n",
    "\n",
    "var (useAzureOpenAI, model, azureEndpoint, apiKey, orgId) = Settings.LoadFromFile();\n",
    "\n",
    "if (useAzureOpenAI) {\n",
    "    var builder = Kernel.CreateBuilder();\n",
    "    builder.AddAzureOpenAIChatCompletion(model, azureEndpoint, apiKey);\n",
    "    builder.Services.AddLogging(c => c.AddConsole().SetMinimumLevel(LogLevel.Trace));\n",
    "    kernel = builder.Build();\n",
    "} else {\n",
    "    var builder = Kernel.CreateBuilder();\n",
    "    builder.AddOpenAIChatCompletion(\"gpt-4-1106-preview\", apiKey, orgId);\n",
    "    builder.Services.AddLogging(c => c.AddConsole().SetMinimumLevel(LogLevel.Trace));\n",
    "    kernel = builder.Build();\n",
    "}\n",
    "\n",
    "kernel.ImportPluginFromType<LightPlugin>();\n",
    "\n",
    "// Create chat history\n",
    "ChatHistory history = [];\n",
    "\n",
    "// Get chat completion service\n",
    "var chatCompletionService = kernel.GetRequiredService<IChatCompletionService>();\n",
    "\n",
    "// Start the conversation\n",
    "while (true)\n",
    "{\n",
    "    var userInput = await InteractiveKernel.GetInputAsync(\"Your wish (enter 'bye' when done) \");\n",
    "\n",
    "    if (userInput == \"bye\")\n",
    "    {\n",
    "        Console.WriteLine(\"Goodbye!\");\n",
    "        break;\n",
    "    }\n",
    "\n",
    "    history.AddUserMessage(userInput);\n",
    "    Console.WriteLine($\"User > {userInput}\");\n",
    "\n",
    "    // Enable auto function calling\n",
    "    OpenAIPromptExecutionSettings openAIPromptExecutionSettings = new() { ToolCallBehavior = ToolCallBehavior.AutoInvokeKernelFunctions };\n",
    "\n",
    "    // Get the response from the AI\n",
    "    var result = await chatCompletionService.GetChatMessageContentAsync(\n",
    "        history,\n",
    "        executionSettings: openAIPromptExecutionSettings,\n",
    "        kernel: kernel);\n",
    "\n",
    "    // Print the results\n",
    "    Console.WriteLine(\"Assistant > \" + result);\n",
    "\n",
    "    // Add the message from the agent to the chat history\n",
    "    history.AddMessage(result.Role, result.Content);\n",
    "}"
   ]
  },
  {
   "cell_type": "code",
   "execution_count": null,
   "metadata": {},
   "outputs": [],
   "source": []
  }
 ],
 "metadata": {
  "kernelspec": {
   "display_name": ".NET (C#)",
   "language": "C#",
   "name": ".net-csharp"
  },
  "language_info": {
   "name": "polyglot-notebook"
  },
  "polyglot_notebook": {
   "kernelInfo": {
    "defaultKernelName": "csharp",
    "items": [
     {
      "aliases": [],
      "name": "csharp"
     }
    ]
   }
  }
 },
 "nbformat": 4,
 "nbformat_minor": 2
}
