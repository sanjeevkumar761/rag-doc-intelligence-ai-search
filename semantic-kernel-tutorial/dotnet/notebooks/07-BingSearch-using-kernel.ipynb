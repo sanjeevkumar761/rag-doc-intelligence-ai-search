{
 "cells": [
  {
   "attachments": {},
   "cell_type": "markdown",
   "metadata": {},
   "source": [
    "# BingSearch using Kernel \n",
    "\n",
    "This notebook explains how to integrate Bing Search with the Semantic Kernel  to get the latest information from the internet.\n",
    "\n",
    "To use Bing Search you simply need a Bing Search API key. You can get the API key by creating a [Bing Search resource](https://learn.microsoft.com/en-us/bing/search-apis/bing-web-search/create-bing-search-service-resource) in Azure. \n",
    "\n",
    "To learn more read the following [documentation](https://learn.microsoft.com/en-us/bing/search-apis/bing-web-search/overview).\n"
   ]
  },
  {
   "attachments": {},
   "cell_type": "markdown",
   "metadata": {},
   "source": [
    "Prepare a Semantic Kernel instance first, loading also the AI backend settings defined in the [Setup notebook](0-AI-settings.ipynb):"
   ]
  },
  {
   "cell_type": "code",
   "execution_count": 3,
   "metadata": {
    "dotnet_interactive": {
     "language": "csharp"
    },
    "polyglot_notebook": {
     "kernelName": "csharp"
    }
   },
   "outputs": [
    {
     "data": {
      "text/html": [
       "<div><div></div><div></div><div><strong>Installed Packages</strong><ul><li><span>Microsoft.SemanticKernel, 1.0.1</span></li><li><span>Microsoft.SemanticKernel.Plugins.Core, 1.0.1-alpha</span></li><li><span>Microsoft.SemanticKernel.Plugins.Web, 1.0.1-alpha</span></li></ul></div></div>"
      ]
     },
     "metadata": {},
     "output_type": "display_data"
    }
   ],
   "source": [
    "#r \"nuget: Microsoft.SemanticKernel, 1.0.1\"\n",
    "#r \"nuget: Microsoft.SemanticKernel.Plugins.Web, 1.0.1-alpha\"\n",
    "#r \"nuget: Microsoft.SemanticKernel.Plugins.Core, 1.0.1-alpha\"\n",
    "\n",
    "#!import config/Settings.cs\n",
    "#!import config/Utils.cs\n",
    "\n",
    "using Microsoft.SemanticKernel;\n",
    "using Microsoft.SemanticKernel.Plugins.Core;\n",
    "using Microsoft.SemanticKernel.TemplateEngine;\n",
    "using InteractiveKernel = Microsoft.DotNet.Interactive.Kernel;\n",
    "using Kernel = Microsoft.SemanticKernel.Kernel;\n",
    "\n",
    "var builder = Kernel.CreateBuilder();\n",
    "\n",
    "// Configure AI backend used by the kernel\n",
    "var (useAzureOpenAI, model, azureEndpoint, apiKey, orgId) = Settings.LoadFromFile();\n",
    "\n",
    "if (useAzureOpenAI)\n",
    "    builder.AddAzureOpenAIChatCompletion(model, azureEndpoint, apiKey);\n",
    "else\n",
    "    builder.AddOpenAIChatCompletion(model, apiKey, orgId);\n",
    "\n",
    "var kernel = builder.Build();"
   ]
  },
  {
   "attachments": {},
   "cell_type": "markdown",
   "metadata": {},
   "source": [
    "Add the following namespaces to use the Bing Search connector."
   ]
  },
  {
   "cell_type": "code",
   "execution_count": 1,
   "metadata": {
    "dotnet_interactive": {
     "language": "csharp"
    },
    "polyglot_notebook": {
     "kernelName": "csharp"
    }
   },
   "outputs": [],
   "source": [
    "using Microsoft.SemanticKernel.Plugins.Web;\n",
    "using Microsoft.SemanticKernel.Plugins.Web.Bing;"
   ]
  },
  {
   "attachments": {},
   "cell_type": "markdown",
   "metadata": {},
   "source": [
    "Enter your Bing Search Key in BING_KEY using `InteractiveKernel` method as introduced in [`.NET Interactive`](https://github.com/dotnet/interactive/blob/main/docs/kernels-overview.md)"
   ]
  },
  {
   "cell_type": "code",
   "execution_count": 2,
   "metadata": {
    "dotnet_interactive": {
     "language": "csharp"
    },
    "polyglot_notebook": {
     "kernelName": "csharp"
    }
   },
   "outputs": [],
   "source": [
    "using InteractiveKernel = Microsoft.DotNet.Interactive.Kernel;\n",
    "\n",
    "string BING_KEY = (await InteractiveKernel.GetPasswordAsync(\"Please enter your Bing Search Key\")).GetClearTextPassword();"
   ]
  },
  {
   "attachments": {},
   "cell_type": "markdown",
   "metadata": {},
   "source": [
    "Below are some examples on how [`WebSearchEnginePlugin`](../src/Plugins/Plugins.Web/WebSearchEnginePlugin.cs) can be used in SK. "
   ]
  },
  {
   "cell_type": "code",
   "execution_count": 4,
   "metadata": {
    "dotnet_interactive": {
     "language": "csharp"
    },
    "polyglot_notebook": {
     "kernelName": "csharp"
    }
   },
   "outputs": [],
   "source": [
    "private static async Task Example1Async(Microsoft.SemanticKernel.Kernel kernel)\n",
    "{\n",
    "        Console.WriteLine(\"Example 1\");\n",
    "\n",
    "        // Run \n",
    "        var question = \"What is quantum tunnelling\";\n",
    "        var function = kernel.Plugins[\"bing\"][\"search\"];\n",
    "        var bingResult = await kernel.InvokeAsync(function, new() { [\"query\"] = question });\n",
    "\n",
    "        Console.WriteLine(question);\n",
    "        Console.WriteLine(\"----\");\n",
    "        Console.WriteLine(bingResult);\n",
    "        Console.WriteLine();\n",
    "\n",
    "        /* OUTPUT:\n",
    "\n",
    "            What is quantum tunnelling\n",
    "            ----\n",
    "            In physics, quantum tunnelling, barrier penetration, or simply tunnelling is a quantum mechanical\n",
    "            phenomenon in which an object such as an electron or atom passes through a potential energy \n",
    "            barrier that, according to classical mechanics, the object does not have sufficient energy to\n",
    "            enter or surmount.\n",
    "            \n",
    "       */\n",
    "}"
   ]
  },
  {
   "cell_type": "code",
   "execution_count": 5,
   "metadata": {
    "dotnet_interactive": {
     "language": "csharp"
    },
    "polyglot_notebook": {
     "kernelName": "csharp"
    }
   },
   "outputs": [],
   "source": [
    "private static async Task Example2Async(Microsoft.SemanticKernel.Kernel kernel)\n",
    "{\n",
    "    Console.WriteLine(\"Example 2\");\n",
    "\n",
    "    //The following function only works in interactive notebooks\n",
    "    string question = await InteractiveKernel.GetInputAsync(\"Please ask your question\"); \n",
    "\n",
    "    var function = kernel.Plugins[\"bing\"][\"search\"];\n",
    "    var bingResult = await kernel.InvokeAsync(function, new() { [\"query\"] = question });\n",
    "\n",
    "    Console.WriteLine(bingResult);\n",
    "}"
   ]
  },
  {
   "cell_type": "code",
   "execution_count": 7,
   "metadata": {
    "dotnet_interactive": {
     "language": "csharp"
    },
    "polyglot_notebook": {
     "kernelName": "csharp"
    }
   },
   "outputs": [
    {
     "name": "stdout",
     "output_type": "stream",
     "text": [
      "Example 1\n",
      "What is quantum tunnelling\n",
      "----\n",
      "[\"In physics, quantum tunnelling, barrier penetration, or simply tunnelling is a quantum mechanical phenomenon in which an object such as an electron or atom passes through a potential energy barrier that, according to classical mechanics, should not be passable due to the object not having sufficient energy to pass or surmount the barrier.\",\"Quantum tunneling is a phenomenon where an electron is able to phase through a barrier and move to the other side. It is a quantum phenomenon that occurs when particles move through a barrier that, according to the theories of classical physics, should be impossible to pass through.\",\"According to quantum rules, electrons can behave both as a particle and a wave, and objects can be in different states at once \\u2013 a phenomenon quantum computers use to their advantage. ...\",\"Quantum tunneling is a phenomenon in which particles penetrate a potential energy barrier with a height greater than the total energy of the particles. The phenomenon is interesting and important because it violates the principles of classical mechanics.\",\"Learn what quantum tunneling is and how it occurs in one dimension and in three dimensions. Explore the applications of quantum tunneling in radioactive decay, semiconductors, superconductors, and scanning tunneling microscopy.\",\"Quantum tunnelling is a captivating and mind-bending phenomenon that arises in the realm of quantum mechanics, defying the expectations of classical physics. At its core, quantum tunnelling unveils the extraordinary ability of particles, such as electrons, to traverse energy barriers that classical physics deems impassable.\",\"quantum physics. Quantum Tunnels Show How Particles Can Break the Speed of Light. Recent experiments show that particles should be able to go faster than light when they quantum mechanically \\u201Ctunnel\\u201D through walls. The bizarre rules of quantum mechanics allow a particle to occasionally pass through a seemingly impenetrable barrier.\",\"Quantum tunneling is a phenomenon where an atom or a subatomic particle can appear on the opposite side of a barrier that should be impossible for the particle to...\",\"What is Quantum Tunneling? Quantum tunneling, also known as quantum mechanical tunneling, is a unique phenomenon that occurs in the microscopic world of quantum mechanics. It is the process by which a particle can pass through a potential barrier that should be impossible according to classical physics.\",\"Quantum tunneling is a phenomenon in which particles penetrate a potential energy barrier with a height greater than the total energy of the particles. The phenomenon is interesting and important because it violates the principles of classical mechanics.\"]\n",
      "\n",
      "Example 2\n",
      "[\"ABB\\u0027s global Headquarters are located in Oerlikon, in the outskirts of Zurich, Switzerland, mid way between the city center and the airport. Mailing and visitors\\u0027 address for ABB\\u0027s head office: ABB Ltd\",\"ABB Ltd. is a Swedish\\u2013Swiss multinational corporation headquartered in V\\u00E4ster\\u00E5s, Sweden, and Z\\u00FCrich, Switzerland. It is traded on the SIX Swiss Exchange in Z\\u00FCrich, the Nasdaq Nordic exchange in Sweden and the OTC Markets Group\\u0027s pink sheets in the United States.\",\"Locations. Find an ABB location nearest to you. See ABB Global Headquarters. Thomas \\u0026 Betts. Cabo Caribe Ind Pk #32\\u002634. S1296-0-80 (A Terminals) 00694 Vega Baja Puerto Rico. \\u002B1 787 855 3046 \\u002B1 787 855 2688. ABB Technologies S.A. Km 3 Boulevard du Centenaire. de la commune de Dakar. Route des Brasseries. Dakar Dakar.\",\"ABB Ltd (Abk\\u00FCrzung f\\u00FCr Asea Brown Boveri) ist ein Energie-und Automatisierungstechnikkonzern mit Hauptsitz in Z\\u00FCrich, der 1988 aus der Fusion der schwedischen ASEA und der schweizerischen BBC entstand.\",\"Locations. Find an ABB location nearest to you. See ABB Global Headquarters. ABB Technologies S.A. Km 3 Boulevard du Centenaire. de la commune de Dakar. Route des Brasseries. Dakar Dakar. \\u002B221 33 832 77 51 \\u002B221 33 832 78 08. ABB S.A. Lotissement La Colline II. Lot 37 -38 Sidi Maarouf. B.P.2648. 20190 Casablanca Morocco.\",\"ABB is located in different continents such as Americas, Asia and Oceania, Europe and Middle East and Africa. You may also reach them at their main headquarters located at Affolternstrasse 44, CH-8050, Zurich, Switzerland or contact them at Tel. \\u002B41 (0)43 317 7111 and Fax \\u002B41(0) 433 174 420.\",\"About ABB. ABB is a technology leader in electrification and automation, enabling a more sustainable and resource-efficient future. The company\\u2019s solutions connect engineering know-how and software to optimize how things are manufactured, moved, powered and operated. Building on more than 140 years of excellence, ABB\\u2019s 105,000 employees are ...\",\"ABB Headquarters and Office Locations. ABB is headquartered in Z\\u00FCrich, Affolternstrasse 44, Switzerland, and has 479 office locations. Locations. ABB Corporate Headquarters, Office Locations and Addresses | Craft.co.\",\"ASEA and BBC merge to form the new company, with headquarters in Zurich, Switzerland. The new group, which started operations on Jan. 5, 1988, had revenues of $17 billion and employed 160,000 people around the world.\",\"ABB Corporate Research Center in Switzerland. The ABB Corporate Research Center in Baden-D\\u00E4ttwil, Switzerland creates power and automation technologies.\"]\n"
     ]
    }
   ],
   "source": [
    "//#pragma warning disable SKEXP0050\n",
    "#pragma warning disable\n",
    "\n",
    "// Load Bing plugin\n",
    "var bingConnector = new BingConnector(BING_KEY);\n",
    "\n",
    "kernel.ImportPluginFromObject(new WebSearchEnginePlugin(bingConnector), \"bing\");\n",
    "\n",
    "await Example1Async(kernel);\n",
    "await Example2Async(kernel);"
   ]
  },
  {
   "cell_type": "code",
   "execution_count": null,
   "metadata": {
    "dotnet_interactive": {
     "language": "csharp"
    },
    "polyglot_notebook": {
     "kernelName": "csharp"
    }
   },
   "outputs": [],
   "source": []
  }
 ],
 "metadata": {
  "kernelspec": {
   "display_name": ".NET (C#)",
   "language": "C#",
   "name": ".net-csharp"
  },
  "language_info": {
   "name": "polyglot-notebook"
  },
  "orig_nbformat": 4,
  "polyglot_notebook": {
   "kernelInfo": {
    "defaultKernelName": "csharp",
    "items": [
     {
      "aliases": [],
      "name": "csharp"
     }
    ]
   }
  }
 },
 "nbformat": 4,
 "nbformat_minor": 2
}
