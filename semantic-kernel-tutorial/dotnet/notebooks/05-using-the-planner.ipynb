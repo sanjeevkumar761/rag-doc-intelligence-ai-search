{
 "cells": [
  {
   "attachments": {},
   "cell_type": "markdown",
   "metadata": {},
   "source": [
    "# Introduction to the Planner\n",
    "\n",
    "The Planner is one of the fundamental concepts of the Semantic Kernel. It makes use of the collection of plugins that have been registered to the kernel and using AI, will formulate a plan to execute a given ask.\n",
    "\n",
    "Read more about it [here](https://aka.ms/sk/concepts/planner)."
   ]
  },
  {
   "cell_type": "code",
   "execution_count": 1,
   "metadata": {
    "dotnet_interactive": {
     "language": "csharp"
    },
    "polyglot_notebook": {
     "kernelName": "csharp"
    }
   },
   "outputs": [
    {
     "data": {
      "text/html": [
       "<div><div></div><div></div><div><strong>Installed Packages</strong><ul><li><span>Microsoft.SemanticKernel, 1.0.1</span></li><li><span>Microsoft.SemanticKernel.Planners.Handlebars, 1.0.1-preview</span></li></ul></div></div>"
      ]
     },
     "metadata": {},
     "output_type": "display_data"
    }
   ],
   "source": [
    "#r \"nuget: Microsoft.SemanticKernel, 1.0.1\"\n",
    "#r \"nuget: Microsoft.SemanticKernel.Planners.Handlebars, 1.0.1-preview\"\n",
    "\n",
    "#!import config/Settings.cs\n",
    "#!import config/Utils.cs\n",
    "\n",
    "using Microsoft.SemanticKernel;\n",
    "using Microsoft.SemanticKernel.Connectors.OpenAI;\n",
    "using Kernel = Microsoft.SemanticKernel.Kernel;\n",
    "\n",
    "var builder = Kernel.CreateBuilder();\n",
    "\n",
    "// Configure AI backend used by the kernel\n",
    "var (useAzureOpenAI, model, azureEndpoint, apiKey, orgId) = Settings.LoadFromFile();\n",
    "\n",
    "if (useAzureOpenAI)\n",
    "    builder.AddAzureOpenAIChatCompletion(model, azureEndpoint, apiKey);\n",
    "else\n",
    "    builder.AddOpenAIChatCompletion(model, apiKey, orgId);\n",
    "\n",
    "var kernel = builder.Build();"
   ]
  },
  {
   "attachments": {},
   "cell_type": "markdown",
   "metadata": {},
   "source": [
    "### Setting Up Handlebars Planner\n",
    "Handlebars Planner is located in the `Microsoft.SemanticKernel.Planning.Handlebars` package."
   ]
  },
  {
   "cell_type": "code",
   "execution_count": 2,
   "metadata": {
    "dotnet_interactive": {
     "language": "csharp"
    },
    "polyglot_notebook": {
     "kernelName": "csharp"
    }
   },
   "outputs": [],
   "source": [
    "using Microsoft.SemanticKernel.Planning.Handlebars;\n",
    "\n",
    "#pragma warning disable SKEXP0060\n",
    "\n",
    "var planner = new HandlebarsPlanner();"
   ]
  },
  {
   "attachments": {},
   "cell_type": "markdown",
   "metadata": {},
   "source": [
    "### Providing plugins to the planner\n",
    "The planner needs to know what plugins are available to it. Here we'll import the `SummarizePlugin` and `WriterPlugin` we have defined on disk."
   ]
  },
  {
   "cell_type": "code",
   "execution_count": 3,
   "metadata": {
    "dotnet_interactive": {
     "language": "csharp"
    },
    "polyglot_notebook": {
     "kernelName": "csharp"
    }
   },
   "outputs": [],
   "source": [
    "var pluginsDirectory = Path.Combine(System.IO.Directory.GetCurrentDirectory(), \"..\", \"..\", \"prompt_template_samples\");\n",
    "\n",
    "kernel.ImportPluginFromPromptDirectory(Path.Combine(pluginsDirectory, \"SummarizePlugin\"));\n",
    "kernel.ImportPluginFromPromptDirectory(Path.Combine(pluginsDirectory, \"WriterPlugin\"));"
   ]
  },
  {
   "attachments": {},
   "cell_type": "markdown",
   "metadata": {},
   "source": [
    "Define your ASK. What do you want the Kernel to do?"
   ]
  },
  {
   "cell_type": "code",
   "execution_count": 4,
   "metadata": {
    "dotnet_interactive": {
     "language": "csharp"
    },
    "polyglot_notebook": {
     "kernelName": "csharp"
    }
   },
   "outputs": [
    {
     "name": "stdout",
     "output_type": "stream",
     "text": [
      "Original plan:\n",
      "\n",
      "{{!-- Step 1: Define the goal for the date Brainstorming --}}\n",
      "{{set \"dateGoal\" \"Valentine's day date ideas\"}}\n",
      "\n",
      "{{!-- Step 2: Generate date ideas using Brainstorm helper --}}\n",
      "{{set \"dateIdeas\" (WriterPlugin-Brainstorm input=dateGoal)}}\n",
      "\n",
      "{{!-- Step 3: Loop through each date idea and create a poem for each --}}\n",
      "{{#each dateIdeas}}\n",
      "    {{set \"poemIdea\" this}}\n",
      "    {{set \"generatedPoem\" (WriterPlugin-ShortPoem input=poemIdea)}}\n",
      "    {{!-- Step 4: Print each poem --}}\n",
      "    {{json generatedPoem}}\n",
      "{{/each}}\n"
     ]
    }
   ],
   "source": [
    "#pragma warning disable SKEXP0060\n",
    "\n",
    "var ask = \"Tomorrow is Valentine's day. I need to come up with a few date ideas. My significant other likes poems so write them in the form of a poem.\";\n",
    "var originalPlan = await planner.CreatePlanAsync(kernel, ask);\n",
    "\n",
    "Console.WriteLine(\"Original plan:\\n\");\n",
    "Console.WriteLine(originalPlan);"
   ]
  },
  {
   "attachments": {},
   "cell_type": "markdown",
   "metadata": {},
   "source": [
    "As you can see in the above plan, the Planner has taken the user's ask and converted it into a Plan object detailing how the AI would go about solving this task.\n",
    "\n",
    "It makes use of the plugins that the Kernel has available to it and determines which functions to call in order to fulfill the user's ask."
   ]
  },
  {
   "attachments": {},
   "cell_type": "markdown",
   "metadata": {},
   "source": [
    "Let's also define an inline plugin and have it be available to the Planner.\n",
    "Be sure to give it a function name and plugin name."
   ]
  },
  {
   "cell_type": "code",
   "execution_count": 5,
   "metadata": {
    "dotnet_interactive": {
     "language": "csharp"
    },
    "polyglot_notebook": {
     "kernelName": "csharp"
    }
   },
   "outputs": [],
   "source": [
    "string skPrompt = \"\"\"\n",
    "{{$input}}\n",
    "\n",
    "Rewrite the above in the style of Shakespeare.\n",
    "\"\"\";\n",
    "\n",
    "var executionSettings = new OpenAIPromptExecutionSettings \n",
    "{\n",
    "    MaxTokens = 2000,\n",
    "    Temperature = 0.7,\n",
    "    TopP = 0.5\n",
    "};\n",
    "\n",
    "var shakespeareFunction = kernel.CreateFunctionFromPrompt(skPrompt, executionSettings, \"Shakespeare\");"
   ]
  },
  {
   "attachments": {},
   "cell_type": "markdown",
   "metadata": {},
   "source": [
    "Let's update our ask using this new plugin."
   ]
  },
  {
   "cell_type": "code",
   "execution_count": 6,
   "metadata": {
    "dotnet_interactive": {
     "language": "csharp"
    },
    "polyglot_notebook": {
     "kernelName": "csharp"
    }
   },
   "outputs": [
    {
     "name": "stdout",
     "output_type": "stream",
     "text": [
      "Updated plan:\n",
      "\n",
      "{{!-- Step 1: Identifying the notable item from the goal --}}\n",
      "{{set \"interest\" \"Shakespeare\"}}\n",
      "\n",
      "{{!-- Step 2: Generate date ideas considering her interest --}}\n",
      "{{set \"dateIdeas\" (WriterPlugin-Brainstorm input=\"A Valentine's day date for someone who likes Shakespeare\")}}\n",
      "\n",
      "{{!-- Step 3: Write generated date ideas in the form of a poem in Shakespearean style --}}\n",
      "{{set \"datePoem\" (WriterPlugin-ShortPoem input=dateIdeas)}}\n",
      "{{set \"datePoemShakespeareanStyle\" (WriterPlugin-Rewrite style=\"Shakespearean\" input=datePoem)}}\n",
      "\n",
      "{{!-- Step 4: Output the final result --}}\n",
      "{{json datePoemShakespeareanStyle}}\n"
     ]
    }
   ],
   "source": [
    "#pragma warning disable SKEXP0060\n",
    "\n",
    "var ask = @\"Tomorrow is Valentine's day. I need to come up with a few date ideas.\n",
    "She likes Shakespeare so write using his style. Write them in the form of a poem.\";\n",
    "\n",
    "var newPlan = await planner.CreatePlanAsync(kernel, ask);\n",
    "\n",
    "Console.WriteLine(\"Updated plan:\\n\");\n",
    "Console.WriteLine(newPlan);"
   ]
  },
  {
   "attachments": {},
   "cell_type": "markdown",
   "metadata": {},
   "source": [
    "### Executing the plans\n",
    "\n",
    "Now that we have different plans, let's try to execute them! The Kernel can execute the plan using RunAsync."
   ]
  },
  {
   "cell_type": "code",
   "execution_count": 8,
   "metadata": {
    "dotnet_interactive": {
     "language": "csharp"
    },
    "polyglot_notebook": {
     "kernelName": "csharp"
    }
   },
   "outputs": [
    {
     "name": "stdout",
     "output_type": "stream",
     "text": [
      "Original Plan results:\n",
      "\n",
      "{}\n",
      "\n"
     ]
    }
   ],
   "source": [
    "#pragma warning disable SKEXP0060\n",
    "\n",
    "var originalPlanResult = await originalPlan.InvokeAsync(kernel, new KernelArguments());\n",
    "\n",
    "Console.WriteLine(\"Original Plan results:\\n\");\n",
    "Console.WriteLine(Utils.WordWrap(originalPlanResult.ToString(), 100));"
   ]
  },
  {
   "attachments": {},
   "cell_type": "markdown",
   "metadata": {},
   "source": [
    "Now lets execute and print the new plan:"
   ]
  },
  {
   "cell_type": "code",
   "execution_count": 9,
   "metadata": {
    "dotnet_interactive": {
     "language": "csharp"
    },
    "polyglot_notebook": {
     "kernelName": "csharp"
    }
   },
   "outputs": [
    {
     "name": "stdout",
     "output_type": "stream",
     "text": [
      "New Plan results:\n",
      "\n",
      "love, so pure and true,\n",
      "   In the quiet of the night, under the moon's soft light,\n",
      "   We shared a moment, a connection anew.\n",
      "\n",
      "1. Unto a play of Shakespeare, we didst venture,\n",
      "   A narrative of love or a tragic misadventure,\n",
      "   With words so noble, in a local ensemble,\n",
      "   We laughed and wept, oh what a spectacle!\n",
      "\n",
      "2. A sonnet recital, solely for us two,\n",
      "   With words of affection, so sincere and true,\n",
      "   In the tranquility of the night, 'neath the moon's gentle light,\n",
      "   We shared a moment, a bond that felt new.\n"
     ]
    }
   ],
   "source": [
    "#pragma warning disable SKEXP0060\n",
    "\n",
    "var newPlanResult = await newPlan.InvokeAsync(kernel, new KernelArguments());\n",
    "\n",
    "Console.WriteLine(\"New Plan results:\\n\");\n",
    "Console.WriteLine(newPlanResult);"
   ]
  },
  {
   "cell_type": "code",
   "execution_count": null,
   "metadata": {},
   "outputs": [],
   "source": []
  }
 ],
 "metadata": {
  "kernelspec": {
   "display_name": ".NET (C#)",
   "language": "C#",
   "name": ".net-csharp"
  },
  "language_info": {
   "name": "polyglot-notebook"
  },
  "polyglot_notebook": {
   "kernelInfo": {
    "defaultKernelName": "csharp",
    "items": [
     {
      "aliases": [],
      "name": "csharp"
     }
    ]
   }
  }
 },
 "nbformat": 4,
 "nbformat_minor": 2
}
